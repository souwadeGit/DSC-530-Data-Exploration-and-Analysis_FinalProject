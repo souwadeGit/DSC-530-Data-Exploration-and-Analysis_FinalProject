{
 "cells": [
  {
   "cell_type": "code",
   "execution_count": 1,
   "metadata": {},
   "outputs": [
    {
     "ename": "SyntaxError",
     "evalue": "(unicode error) 'unicodeescape' codec can't decode bytes in position 2-3: truncated \\UXXXXXXXX escape (<ipython-input-1-7624859c34f4>, line 6)",
     "output_type": "error",
     "traceback": [
      "\u001b[1;36m  File \u001b[1;32m\"<ipython-input-1-7624859c34f4>\"\u001b[1;36m, line \u001b[1;32m6\u001b[0m\n\u001b[1;33m    df= pd.read_csv(\"C:\\Users\\Soukhna\\Desktop\\DSC520\\9.1 Final Project Step 1-4\\WA_Fn-UseC_HR-Employee-Attrition.csv\")\u001b[0m\n\u001b[1;37m                   ^\u001b[0m\n\u001b[1;31mSyntaxError\u001b[0m\u001b[1;31m:\u001b[0m (unicode error) 'unicodeescape' codec can't decode bytes in position 2-3: truncated \\UXXXXXXXX escape\n"
     ]
    }
   ],
   "source": [
    "import matplotlib.pyplot as plt          # plotting\n",
    "import numpy as np                       # dense matrices\n",
    "from scipy.sparse import csr_matrix      # sparse matrices\n",
    "%matplotlib inlineimport pandas as pd                     \n",
    "import numpy as np\n",
    "df= pd.read_csv(\"C:\\Users\\Soukhna\\Desktop\\DSC520\\9.1 Final Project Step 1-4\\WA_Fn-UseC_HR-Employee-Attrition.csv\")\n",
    "df\n",
    "\n",
    "#df\n",
    "#df.columns\n",
    "#df.dropna(axis='columns')\n",
    "#df.head(5)\n",
    "#df.shape # Total number of rows and columns\n",
    "\n",
    "#print(“number of duplicate rows: “, duplicate_rows_df.shape)\n",
    "# Dropping the duplicates \n",
    "#df = df.drop_duplicates()\n",
    "#df.head(5)"
   ]
  }
 ],
 "metadata": {
  "kernelspec": {
   "display_name": "Python 3",
   "language": "python",
   "name": "python3"
  },
  "language_info": {
   "codemirror_mode": {
    "name": "ipython",
    "version": 3
   },
   "file_extension": ".py",
   "mimetype": "text/x-python",
   "name": "python",
   "nbconvert_exporter": "python",
   "pygments_lexer": "ipython3",
   "version": "3.7.4"
  }
 },
 "nbformat": 4,
 "nbformat_minor": 2
}
